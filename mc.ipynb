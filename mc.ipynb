{
 "cells": [
  {
   "cell_type": "markdown",
   "metadata": {},
   "source": [
    "### Probabilidad de que salga una opción en un multiple choice con 'x' preguntas y 4 opciones.\n",
    "\n",
    "- Se intenta demostrar que la probabilidad de que una de las respuestas sea la correcta, es del 25% (como la lógica indica).\n",
    "\n",
    "\n",
    "- También, se intenta demostrar que la probabilidad es correcta pero solamente cuando tiende a muchos multiple choice(infinito). Si se observa una pregunta multiple choice en particular, puede haber más o menos que el 25% de probabilidades de que sea la correcta, es por esto que se debe observar en un alto volumen de preguntas, para realmente determinar que la probabilidad es del 25%.\n",
    "\n",
    "\n",
     "- Cuantas más preguntas, más tenderá a ser cierta la afirmación de la probabilidad del 25% de acierto.\n",
    "\n",
    "\n",
    "- La respuesta correcta está dada por un numero random del 1 al 4. Si sale 1, la respuesta correcta es la opcion a (así para cada opción)."
   ]
  },
  {
   "cell_type": "code",
   "execution_count": 24,
   "metadata": {
    "code_folding": []
   },
   "outputs": [
    {
     "output_type": "stream",
     "name": "stdout",
     "text": [
      "Cantidad de preguntas en el multiple choice:  50 \n\nProbabilidad de cada opción en la corrida actual:\n\na=  18 %\nb=  32 %\nc=  24 %\nd=  26 %\n\nProbabilidad de cada opción en cada una de las corridas realizadas:\n\n[24, 26, 16, 24, 24, 22, 32, 26, 18, 20, 28, 14, 36, 20, 26, 24, 18]\n[20, 24, 30, 20, 36, 30, 30, 30, 30, 30, 24, 36, 14, 28, 30, 36, 32]\n[32, 30, 24, 32, 26, 34, 24, 26, 24, 32, 30, 18, 32, 16, 14, 24, 24]\n[24, 20, 30, 24, 14, 14, 14, 18, 28, 18, 18, 32, 18, 36, 30, 16, 26]\n\nProbabilidad total de cada opción:\n\nProbabilidad de que la respuesta sea la opcion a:  23 %\nProbabilidad de que la respuesta sea la opcion b:  23 %\nProbabilidad de que la respuesta sea la opcion c:  26 %\nProbabilidad de que la respuesta sea la opcion d:  22 %\n"
     ]
    }
   ],
   "source": [
    "import random\n",
    "import math\n",
    "#import pprint\n",
    "\n",
    "#cantidad de preguntas que tiene el multiple choice - cambiar las veces que se quiera para probar la hipotesis\n",
    "qty = 50\n",
    "#en un futuro, la idea es que sea con input para el usuario: int(input('Cuantas preguntas tendrá el multiple choice?(en números): '))\n",
    "print('Cantidad de preguntas en el multiple choice: ',qty, '\\n')\n",
    "\n",
    "a = 0\n",
    "b = 0\n",
    "c = 0\n",
    "d = 0\n",
    "\n",
    "'''\n",
    "#para limpiar los arrays, y volver a probar la hipotesis con otro número(qty), descomentar esto\n",
    "a_array =[]\n",
    "b_array =[]\n",
    "c_array =[]\n",
    "d_array =[]\n",
    "\n",
    "'''\n",
    "\n",
    "for i in range(qty):\n",
    "    opcion = random.randint(1,4)\n",
    "    if opcion == 1:\n",
    "        a=a+1\n",
    "    elif opcion == 2:\n",
    "        b=b+1\n",
    "    elif opcion == 3:\n",
    "        c=c+1    \n",
    "    elif opcion == 4:\n",
    "        d=d+1    \n",
    "\n",
    "if 'a_array' in locals() or 'a_array' in globals():\n",
    "    a_array=a_array\n",
    "else: a_array=[]\n",
    "\n",
    "if 'b_array' in locals() or 'b_array' in globals():\n",
    "    b_array=b_array\n",
    "else: b_array=[]\n",
    "\n",
    "if 'c_array' in locals() or 'c_array' in globals():\n",
    "    c_array=c_array\n",
    "else: c_array=[]\n",
    "    \n",
    "if 'd_array' in locals() or 'd_array' in globals():\n",
    "    d_array=d_array\n",
    "else: d_array=[]\n",
    " \n",
    "\n",
    "print('Probabilidad de cada opción en la corrida actual:\\n')\n",
    "\n",
    "if a != 0:\n",
    "    probabilidad_a = round((a/qty)*100)\n",
    "    a_array.append(probabilidad_a)\n",
    "    print('a= ',probabilidad_a,'%')\n",
    "\n",
    "if b!= 0:\n",
    "    probabilidad_b = round((b/qty)*100)\n",
    "    b_array.append(probabilidad_b)\n",
    "    print('b= ',probabilidad_b,'%')\n",
    "\n",
    "if c!= 0:\n",
    "    probabilidad_c = round((c/qty)*100)\n",
    "    c_array.append(probabilidad_c)\n",
    "    print('c= ',probabilidad_c,'%')\n",
    "\n",
    "if d!=0:\n",
    "    probabilidad_d = round((d/qty)*100)\n",
    "    d_array.append(probabilidad_d)\n",
    "    print('d= ',probabilidad_d,'%')\n",
    "\n",
    "    \n",
    "print('\\nProbabilidad de cada opción en cada una de las corridas realizadas:\\n')\n",
    "print(a_array)\n",
    "print(b_array)\n",
    "print(c_array)\n",
    "print(d_array)\n",
    "\n",
    "sum_a=0\n",
    "sum_b=0\n",
    "sum_c=0\n",
    "sum_d=0\n",
    "\n",
    "for num in a_array:\n",
    "    sum_a=sum_a+num\n",
    "\n",
    "a_promedio = round(sum_a/len(a_array))\n",
    "\n",
    "for num in a_array:\n",
    "    sum_b=sum_b+num\n",
    "\n",
    "b_promedio = round(sum_b/len(b_array))\n",
    "\n",
    "for num in c_array:\n",
    "    sum_c=sum_c+num\n",
    "\n",
    "c_promedio = round(sum_c/len(c_array))\n",
    "\n",
    "for num in d_array:\n",
    "    sum_d=sum_d+num\n",
    "\n",
    "d_promedio = round(sum_d/len(d_array))\n",
    "\n",
    "print('\\nProbabilidad total de cada opción:\\n')\n",
    "print('Probabilidad de que la respuesta sea la opcion a: ',a_promedio,'%')\n",
    "print('Probabilidad de que la respuesta sea la opcion b: ',b_promedio,'%')\n",
    "print('Probabilidad de que la respuesta sea la opcion c: ',c_promedio,'%')\n",
    "print('Probabilidad de que la respuesta sea la opcion d: ',d_promedio,'%')\n"
   ]
  },
  {
   "cell_type": "code",
   "execution_count": null,
   "metadata": {},
   "outputs": [],
   "source": []
  }
 ],
 "metadata": {
  "hide_input": false,
  "kernelspec": {
   "name": "python385jvsc74a57bd0ecf5722fdaf1897a315d257d89d94520bfcaa453217d5becf09b39e73618b0de",
   "display_name": "Python 3.8.5 64-bit (conda)"
  },
  "language_info": {
   "codemirror_mode": {
    "name": "ipython",
    "version": 3
   },
   "file_extension": ".py",
   "mimetype": "text/x-python",
   "name": "python",
   "nbconvert_exporter": "python",
   "pygments_lexer": "ipython3",
   "version": "3.8.5"
  },
  "varInspector": {
   "cols": {
    "lenName": 16,
    "lenType": 16,
    "lenVar": 40
   },
   "kernels_config": {
    "python": {
     "delete_cmd_postfix": "",
     "delete_cmd_prefix": "del ",
     "library": "var_list.py",
     "varRefreshCmd": "print(var_dic_list())"
    },
    "r": {
     "delete_cmd_postfix": ") ",
     "delete_cmd_prefix": "rm(",
     "library": "var_list.r",
     "varRefreshCmd": "cat(var_dic_list()) "
    }
   },
   "position": {
    "height": "357.667px",
    "left": "910px",
    "right": "20px",
    "top": "120px",
    "width": "350px"
   },
   "types_to_exclude": [
    "module",
    "function",
    "builtin_function_or_method",
    "instance",
    "_Feature"
   ],
   "window_display": false
  }
 },
 "nbformat": 4,
 "nbformat_minor": 2
}
